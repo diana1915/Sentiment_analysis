{
  "cells": [
    {
      "cell_type": "markdown",
      "metadata": {
        "id": "aACwbxUJqIYi"
      },
      "source": [
        "#Импортируем нужные библиотеки, нейросеть будем писать на PyTorch"
      ]
    },
    {
      "cell_type": "code",
      "source": [
        "from google.colab import drive\n",
        "drive.mount('/content/drive')"
      ],
      "metadata": {
        "id": "UCr8zxiQ9b-f",
        "colab": {
          "base_uri": "https://localhost:8080/"
        },
        "outputId": "529a2827-2674-4fca-de61-6aa73c20cf3b"
      },
      "execution_count": null,
      "outputs": [
        {
          "output_type": "stream",
          "name": "stdout",
          "text": [
            "Mounted at /content/drive\n"
          ]
        }
      ]
    },
    {
      "cell_type": "code",
      "execution_count": null,
      "metadata": {
        "colab": {
          "base_uri": "https://localhost:8080/"
        },
        "id": "BE1eDw6-qdkq",
        "outputId": "06c4b8bb-5aaa-4ec6-a8dc-38e2cefe3fc0"
      },
      "outputs": [
        {
          "output_type": "stream",
          "name": "stdout",
          "text": [
            "Collecting transformers\n",
            "  Downloading transformers-4.34.0-py3-none-any.whl (7.7 MB)\n",
            "\u001b[2K     \u001b[90m━━━━━━━━━━━━━━━━━━━━━━━━━━━━━━━━━━━━━━━━\u001b[0m \u001b[32m7.7/7.7 MB\u001b[0m \u001b[31m42.9 MB/s\u001b[0m eta \u001b[36m0:00:00\u001b[0m\n",
            "\u001b[?25hRequirement already satisfied: filelock in /usr/local/lib/python3.10/dist-packages (from transformers) (3.12.4)\n",
            "Collecting huggingface-hub<1.0,>=0.16.4 (from transformers)\n",
            "  Downloading huggingface_hub-0.18.0-py3-none-any.whl (301 kB)\n",
            "\u001b[2K     \u001b[90m━━━━━━━━━━━━━━━━━━━━━━━━━━━━━━━━━━━━━━\u001b[0m \u001b[32m302.0/302.0 kB\u001b[0m \u001b[31m34.5 MB/s\u001b[0m eta \u001b[36m0:00:00\u001b[0m\n",
            "\u001b[?25hRequirement already satisfied: numpy>=1.17 in /usr/local/lib/python3.10/dist-packages (from transformers) (1.23.5)\n",
            "Requirement already satisfied: packaging>=20.0 in /usr/local/lib/python3.10/dist-packages (from transformers) (23.2)\n",
            "Requirement already satisfied: pyyaml>=5.1 in /usr/local/lib/python3.10/dist-packages (from transformers) (6.0.1)\n",
            "Requirement already satisfied: regex!=2019.12.17 in /usr/local/lib/python3.10/dist-packages (from transformers) (2023.6.3)\n",
            "Requirement already satisfied: requests in /usr/local/lib/python3.10/dist-packages (from transformers) (2.31.0)\n",
            "Collecting tokenizers<0.15,>=0.14 (from transformers)\n",
            "  Downloading tokenizers-0.14.1-cp310-cp310-manylinux_2_17_x86_64.manylinux2014_x86_64.whl (3.8 MB)\n",
            "\u001b[2K     \u001b[90m━━━━━━━━━━━━━━━━━━━━━━━━━━━━━━━━━━━━━━━━\u001b[0m \u001b[32m3.8/3.8 MB\u001b[0m \u001b[31m77.4 MB/s\u001b[0m eta \u001b[36m0:00:00\u001b[0m\n",
            "\u001b[?25hCollecting safetensors>=0.3.1 (from transformers)\n",
            "  Downloading safetensors-0.4.0-cp310-cp310-manylinux_2_17_x86_64.manylinux2014_x86_64.whl (1.3 MB)\n",
            "\u001b[2K     \u001b[90m━━━━━━━━━━━━━━━━━━━━━━━━━━━━━━━━━━━━━━━━\u001b[0m \u001b[32m1.3/1.3 MB\u001b[0m \u001b[31m59.2 MB/s\u001b[0m eta \u001b[36m0:00:00\u001b[0m\n",
            "\u001b[?25hRequirement already satisfied: tqdm>=4.27 in /usr/local/lib/python3.10/dist-packages (from transformers) (4.66.1)\n",
            "Requirement already satisfied: fsspec>=2023.5.0 in /usr/local/lib/python3.10/dist-packages (from huggingface-hub<1.0,>=0.16.4->transformers) (2023.6.0)\n",
            "Requirement already satisfied: typing-extensions>=3.7.4.3 in /usr/local/lib/python3.10/dist-packages (from huggingface-hub<1.0,>=0.16.4->transformers) (4.5.0)\n",
            "Collecting huggingface-hub<1.0,>=0.16.4 (from transformers)\n",
            "  Downloading huggingface_hub-0.17.3-py3-none-any.whl (295 kB)\n",
            "\u001b[2K     \u001b[90m━━━━━━━━━━━━━━━━━━━━━━━━━━━━━━━━━━━━━━\u001b[0m \u001b[32m295.0/295.0 kB\u001b[0m \u001b[31m27.3 MB/s\u001b[0m eta \u001b[36m0:00:00\u001b[0m\n",
            "\u001b[?25hRequirement already satisfied: charset-normalizer<4,>=2 in /usr/local/lib/python3.10/dist-packages (from requests->transformers) (3.3.0)\n",
            "Requirement already satisfied: idna<4,>=2.5 in /usr/local/lib/python3.10/dist-packages (from requests->transformers) (3.4)\n",
            "Requirement already satisfied: urllib3<3,>=1.21.1 in /usr/local/lib/python3.10/dist-packages (from requests->transformers) (2.0.6)\n",
            "Requirement already satisfied: certifi>=2017.4.17 in /usr/local/lib/python3.10/dist-packages (from requests->transformers) (2023.7.22)\n",
            "Installing collected packages: safetensors, huggingface-hub, tokenizers, transformers\n",
            "Successfully installed huggingface-hub-0.17.3 safetensors-0.4.0 tokenizers-0.14.1 transformers-4.34.0\n"
          ]
        }
      ],
      "source": [
        "!pip install transformers"
      ]
    },
    {
      "cell_type": "code",
      "execution_count": null,
      "metadata": {
        "id": "QRXfH1Fh3a_w"
      },
      "outputs": [],
      "source": [
        "import pandas as pd\n",
        "import numpy as np\n",
        "import matplotlib.pyplot as plt\n",
        "from tqdm import tqdm\n",
        "\n",
        "import torch\n",
        "import torch.nn as nn\n",
        "from torch.utils.data import Dataset, DataLoader\n",
        "from transformers import BertTokenizer, BertModel\n",
        "\n",
        "from sklearn.preprocessing import LabelEncoder\n",
        "from sklearn.metrics import f1_score, roc_auc_score, roc_curve\n",
        "from sklearn.metrics import classification_report, auc"
      ]
    },
    {
      "cell_type": "markdown",
      "metadata": {
        "id": "DTXJNqGB3miG"
      },
      "source": [
        "#Загрузим дасет [Emotions dataset for NLP](https://www.kaggle.com/datasets/praveengovi/emotions-dataset-for-nlp?select=train.txt)"
      ]
    },
    {
      "cell_type": "code",
      "execution_count": null,
      "metadata": {
        "colab": {
          "base_uri": "https://localhost:8080/",
          "height": 206
        },
        "id": "CszPAAVk3tIi",
        "outputId": "c0f3393a-130e-464e-a632-d58dcd87aad3"
      },
      "outputs": [
        {
          "output_type": "execute_result",
          "data": {
            "text/plain": [
              "                                                text  emotion\n",
              "0  im feeling rather rotten so im not very ambiti...  sadness\n",
              "1          im updating my blog because i feel shitty  sadness\n",
              "2  i never make her separate from me because i do...  sadness\n",
              "3  i left with my bouquet of red and yellow tulip...      joy\n",
              "4    i was feeling a little vain when i did this one  sadness"
            ],
            "text/html": [
              "\n",
              "  <div id=\"df-ba7ba55d-4f8b-4597-ac46-d4ea7bb506b1\" class=\"colab-df-container\">\n",
              "    <div>\n",
              "<style scoped>\n",
              "    .dataframe tbody tr th:only-of-type {\n",
              "        vertical-align: middle;\n",
              "    }\n",
              "\n",
              "    .dataframe tbody tr th {\n",
              "        vertical-align: top;\n",
              "    }\n",
              "\n",
              "    .dataframe thead th {\n",
              "        text-align: right;\n",
              "    }\n",
              "</style>\n",
              "<table border=\"1\" class=\"dataframe\">\n",
              "  <thead>\n",
              "    <tr style=\"text-align: right;\">\n",
              "      <th></th>\n",
              "      <th>text</th>\n",
              "      <th>emotion</th>\n",
              "    </tr>\n",
              "  </thead>\n",
              "  <tbody>\n",
              "    <tr>\n",
              "      <th>0</th>\n",
              "      <td>im feeling rather rotten so im not very ambiti...</td>\n",
              "      <td>sadness</td>\n",
              "    </tr>\n",
              "    <tr>\n",
              "      <th>1</th>\n",
              "      <td>im updating my blog because i feel shitty</td>\n",
              "      <td>sadness</td>\n",
              "    </tr>\n",
              "    <tr>\n",
              "      <th>2</th>\n",
              "      <td>i never make her separate from me because i do...</td>\n",
              "      <td>sadness</td>\n",
              "    </tr>\n",
              "    <tr>\n",
              "      <th>3</th>\n",
              "      <td>i left with my bouquet of red and yellow tulip...</td>\n",
              "      <td>joy</td>\n",
              "    </tr>\n",
              "    <tr>\n",
              "      <th>4</th>\n",
              "      <td>i was feeling a little vain when i did this one</td>\n",
              "      <td>sadness</td>\n",
              "    </tr>\n",
              "  </tbody>\n",
              "</table>\n",
              "</div>\n",
              "    <div class=\"colab-df-buttons\">\n",
              "\n",
              "  <div class=\"colab-df-container\">\n",
              "    <button class=\"colab-df-convert\" onclick=\"convertToInteractive('df-ba7ba55d-4f8b-4597-ac46-d4ea7bb506b1')\"\n",
              "            title=\"Convert this dataframe to an interactive table.\"\n",
              "            style=\"display:none;\">\n",
              "\n",
              "  <svg xmlns=\"http://www.w3.org/2000/svg\" height=\"24px\" viewBox=\"0 -960 960 960\">\n",
              "    <path d=\"M120-120v-720h720v720H120Zm60-500h600v-160H180v160Zm220 220h160v-160H400v160Zm0 220h160v-160H400v160ZM180-400h160v-160H180v160Zm440 0h160v-160H620v160ZM180-180h160v-160H180v160Zm440 0h160v-160H620v160Z\"/>\n",
              "  </svg>\n",
              "    </button>\n",
              "\n",
              "  <style>\n",
              "    .colab-df-container {\n",
              "      display:flex;\n",
              "      gap: 12px;\n",
              "    }\n",
              "\n",
              "    .colab-df-convert {\n",
              "      background-color: #E8F0FE;\n",
              "      border: none;\n",
              "      border-radius: 50%;\n",
              "      cursor: pointer;\n",
              "      display: none;\n",
              "      fill: #1967D2;\n",
              "      height: 32px;\n",
              "      padding: 0 0 0 0;\n",
              "      width: 32px;\n",
              "    }\n",
              "\n",
              "    .colab-df-convert:hover {\n",
              "      background-color: #E2EBFA;\n",
              "      box-shadow: 0px 1px 2px rgba(60, 64, 67, 0.3), 0px 1px 3px 1px rgba(60, 64, 67, 0.15);\n",
              "      fill: #174EA6;\n",
              "    }\n",
              "\n",
              "    .colab-df-buttons div {\n",
              "      margin-bottom: 4px;\n",
              "    }\n",
              "\n",
              "    [theme=dark] .colab-df-convert {\n",
              "      background-color: #3B4455;\n",
              "      fill: #D2E3FC;\n",
              "    }\n",
              "\n",
              "    [theme=dark] .colab-df-convert:hover {\n",
              "      background-color: #434B5C;\n",
              "      box-shadow: 0px 1px 3px 1px rgba(0, 0, 0, 0.15);\n",
              "      filter: drop-shadow(0px 1px 2px rgba(0, 0, 0, 0.3));\n",
              "      fill: #FFFFFF;\n",
              "    }\n",
              "  </style>\n",
              "\n",
              "    <script>\n",
              "      const buttonEl =\n",
              "        document.querySelector('#df-ba7ba55d-4f8b-4597-ac46-d4ea7bb506b1 button.colab-df-convert');\n",
              "      buttonEl.style.display =\n",
              "        google.colab.kernel.accessAllowed ? 'block' : 'none';\n",
              "\n",
              "      async function convertToInteractive(key) {\n",
              "        const element = document.querySelector('#df-ba7ba55d-4f8b-4597-ac46-d4ea7bb506b1');\n",
              "        const dataTable =\n",
              "          await google.colab.kernel.invokeFunction('convertToInteractive',\n",
              "                                                    [key], {});\n",
              "        if (!dataTable) return;\n",
              "\n",
              "        const docLinkHtml = 'Like what you see? Visit the ' +\n",
              "          '<a target=\"_blank\" href=https://colab.research.google.com/notebooks/data_table.ipynb>data table notebook</a>'\n",
              "          + ' to learn more about interactive tables.';\n",
              "        element.innerHTML = '';\n",
              "        dataTable['output_type'] = 'display_data';\n",
              "        await google.colab.output.renderOutput(dataTable, element);\n",
              "        const docLink = document.createElement('div');\n",
              "        docLink.innerHTML = docLinkHtml;\n",
              "        element.appendChild(docLink);\n",
              "      }\n",
              "    </script>\n",
              "  </div>\n",
              "\n",
              "\n",
              "<div id=\"df-6dc91f8f-41f1-4da0-867b-f05738c5efd9\">\n",
              "  <button class=\"colab-df-quickchart\" onclick=\"quickchart('df-6dc91f8f-41f1-4da0-867b-f05738c5efd9')\"\n",
              "            title=\"Suggest charts.\"\n",
              "            style=\"display:none;\">\n",
              "\n",
              "<svg xmlns=\"http://www.w3.org/2000/svg\" height=\"24px\"viewBox=\"0 0 24 24\"\n",
              "     width=\"24px\">\n",
              "    <g>\n",
              "        <path d=\"M19 3H5c-1.1 0-2 .9-2 2v14c0 1.1.9 2 2 2h14c1.1 0 2-.9 2-2V5c0-1.1-.9-2-2-2zM9 17H7v-7h2v7zm4 0h-2V7h2v10zm4 0h-2v-4h2v4z\"/>\n",
              "    </g>\n",
              "</svg>\n",
              "  </button>\n",
              "\n",
              "<style>\n",
              "  .colab-df-quickchart {\n",
              "      --bg-color: #E8F0FE;\n",
              "      --fill-color: #1967D2;\n",
              "      --hover-bg-color: #E2EBFA;\n",
              "      --hover-fill-color: #174EA6;\n",
              "      --disabled-fill-color: #AAA;\n",
              "      --disabled-bg-color: #DDD;\n",
              "  }\n",
              "\n",
              "  [theme=dark] .colab-df-quickchart {\n",
              "      --bg-color: #3B4455;\n",
              "      --fill-color: #D2E3FC;\n",
              "      --hover-bg-color: #434B5C;\n",
              "      --hover-fill-color: #FFFFFF;\n",
              "      --disabled-bg-color: #3B4455;\n",
              "      --disabled-fill-color: #666;\n",
              "  }\n",
              "\n",
              "  .colab-df-quickchart {\n",
              "    background-color: var(--bg-color);\n",
              "    border: none;\n",
              "    border-radius: 50%;\n",
              "    cursor: pointer;\n",
              "    display: none;\n",
              "    fill: var(--fill-color);\n",
              "    height: 32px;\n",
              "    padding: 0;\n",
              "    width: 32px;\n",
              "  }\n",
              "\n",
              "  .colab-df-quickchart:hover {\n",
              "    background-color: var(--hover-bg-color);\n",
              "    box-shadow: 0 1px 2px rgba(60, 64, 67, 0.3), 0 1px 3px 1px rgba(60, 64, 67, 0.15);\n",
              "    fill: var(--button-hover-fill-color);\n",
              "  }\n",
              "\n",
              "  .colab-df-quickchart-complete:disabled,\n",
              "  .colab-df-quickchart-complete:disabled:hover {\n",
              "    background-color: var(--disabled-bg-color);\n",
              "    fill: var(--disabled-fill-color);\n",
              "    box-shadow: none;\n",
              "  }\n",
              "\n",
              "  .colab-df-spinner {\n",
              "    border: 2px solid var(--fill-color);\n",
              "    border-color: transparent;\n",
              "    border-bottom-color: var(--fill-color);\n",
              "    animation:\n",
              "      spin 1s steps(1) infinite;\n",
              "  }\n",
              "\n",
              "  @keyframes spin {\n",
              "    0% {\n",
              "      border-color: transparent;\n",
              "      border-bottom-color: var(--fill-color);\n",
              "      border-left-color: var(--fill-color);\n",
              "    }\n",
              "    20% {\n",
              "      border-color: transparent;\n",
              "      border-left-color: var(--fill-color);\n",
              "      border-top-color: var(--fill-color);\n",
              "    }\n",
              "    30% {\n",
              "      border-color: transparent;\n",
              "      border-left-color: var(--fill-color);\n",
              "      border-top-color: var(--fill-color);\n",
              "      border-right-color: var(--fill-color);\n",
              "    }\n",
              "    40% {\n",
              "      border-color: transparent;\n",
              "      border-right-color: var(--fill-color);\n",
              "      border-top-color: var(--fill-color);\n",
              "    }\n",
              "    60% {\n",
              "      border-color: transparent;\n",
              "      border-right-color: var(--fill-color);\n",
              "    }\n",
              "    80% {\n",
              "      border-color: transparent;\n",
              "      border-right-color: var(--fill-color);\n",
              "      border-bottom-color: var(--fill-color);\n",
              "    }\n",
              "    90% {\n",
              "      border-color: transparent;\n",
              "      border-bottom-color: var(--fill-color);\n",
              "    }\n",
              "  }\n",
              "</style>\n",
              "\n",
              "  <script>\n",
              "    async function quickchart(key) {\n",
              "      const quickchartButtonEl =\n",
              "        document.querySelector('#' + key + ' button');\n",
              "      quickchartButtonEl.disabled = true;  // To prevent multiple clicks.\n",
              "      quickchartButtonEl.classList.add('colab-df-spinner');\n",
              "      try {\n",
              "        const charts = await google.colab.kernel.invokeFunction(\n",
              "            'suggestCharts', [key], {});\n",
              "      } catch (error) {\n",
              "        console.error('Error during call to suggestCharts:', error);\n",
              "      }\n",
              "      quickchartButtonEl.classList.remove('colab-df-spinner');\n",
              "      quickchartButtonEl.classList.add('colab-df-quickchart-complete');\n",
              "    }\n",
              "    (() => {\n",
              "      let quickchartButtonEl =\n",
              "        document.querySelector('#df-6dc91f8f-41f1-4da0-867b-f05738c5efd9 button');\n",
              "      quickchartButtonEl.style.display =\n",
              "        google.colab.kernel.accessAllowed ? 'block' : 'none';\n",
              "    })();\n",
              "  </script>\n",
              "</div>\n",
              "    </div>\n",
              "  </div>\n"
            ]
          },
          "metadata": {},
          "execution_count": 51
        }
      ],
      "source": [
        "train_df = pd.read_csv('/content/drive/MyDrive/test.txt', names=['text', 'emotion'], sep=';')\n",
        "val_df = pd.read_csv('/content/drive/MyDrive/val.txt', names=['text', 'emotion'], sep=';')\n",
        "test_df = pd.read_csv('/content/drive/MyDrive/test.txt', names=['text', 'emotion'], sep=';')\n",
        "\n",
        "train_df.head()"
      ]
    },
    {
      "cell_type": "markdown",
      "source": [
        "Посмотрим распределение на классы эмоций:"
      ],
      "metadata": {
        "id": "xujzpLaO8Gjx"
      }
    },
    {
      "cell_type": "code",
      "source": [
        "categories = train_df.emotion.value_counts().index\n",
        "counts = train_df.emotion.value_counts().values\n",
        "\n",
        "# Создаем столбчатый график\n",
        "plt.figure(figsize=(12, 6))\n",
        "plt.bar(categories, counts, color=['#FF5733', '#4CBB17', '#1E90FF', '#8B008B', '#FFD700', '#FF1493'])\n",
        "\n",
        "# Добавляем название графика и метки осей\n",
        "plt.title('Количество новостей по категориям')\n",
        "plt.xlabel('Категории')\n",
        "plt.ylabel('Количество новостей')\n",
        "\n",
        "# Поворачиваем метки по оси X, чтобы они не пересекались\n",
        "plt.xticks(rotation=90)\n",
        "\n",
        "# Отображаем график\n",
        "plt.tight_layout()\n",
        "plt.show()"
      ],
      "metadata": {
        "colab": {
          "base_uri": "https://localhost:8080/",
          "height": 607
        },
        "id": "YW09rPC8zyC2",
        "outputId": "d7c36e24-da1e-43bf-fb67-1c72e468430e"
      },
      "execution_count": null,
      "outputs": [
        {
          "output_type": "display_data",
          "data": {
            "text/plain": [
              "<Figure size 1200x600 with 1 Axes>"
            ],
            "image/png": "[encoded data removed]"
          },
          "metadata": {}
        }
      ]
    },
    {
      "cell_type": "markdown",
      "metadata": {
        "id": "L8NnLyrb8Izk"
      },
      "source": [
        "#Загрузка предобученной модели BERT"
      ]
    },
    {
      "cell_type": "code",
      "execution_count": null,
      "metadata": {
        "id": "252NbMIt8MZB"
      },
      "outputs": [],
      "source": [
        "from transformers import BertTokenizer, BertModel\n",
        "\n",
        "tokenizer = BertTokenizer.from_pretrained('bert-base-uncased')"
      ]
    },
    {
      "cell_type": "markdown",
      "metadata": {
        "id": "c9xiBu488veN"
      },
      "source": [
        "#Создадим Dataset класс для нашего набора данных"
      ]
    },
    {
      "cell_type": "code",
      "source": [
        "# посмотрим на грубую оценку длины предложения\n",
        "df_len = train_df['text'].apply(lambda x: len(x.split()))\n",
        "\n",
        "df_len.describe()"
      ],
      "metadata": {
        "colab": {
          "base_uri": "https://localhost:8080/"
        },
        "id": "3wpW02TG0AUE",
        "outputId": "55ad8d7c-693d-42d1-fd27-dbb92dedc90d"
      },
      "execution_count": null,
      "outputs": [
        {
          "output_type": "execute_result",
          "data": {
            "text/plain": [
              "count    2000.000000\n",
              "mean       19.154000\n",
              "std        11.012353\n",
              "min         3.000000\n",
              "25%        10.000000\n",
              "50%        17.000000\n",
              "75%        26.000000\n",
              "max        61.000000\n",
              "Name: text, dtype: float64"
            ]
          },
          "metadata": {},
          "execution_count": 54
        }
      ]
    },
    {
      "cell_type": "code",
      "source": [
        "# Создаем гистограмму\n",
        "plt.figure(figsize=(12, 5))\n",
        "plt.hist(df_len, bins=50)\n",
        "\n",
        "# Добавляем название графика и метки осей\n",
        "plt.xlabel('Длинна текста')\n",
        "plt.ylabel('Количество экземпляров')\n",
        "plt.title('Количество текстов определенной длины')\n",
        "\n",
        "# Отображаем график\n",
        "plt.legend(loc=\"lower right\")\n",
        "plt.show()"
      ],
      "metadata": {
        "colab": {
          "base_uri": "https://localhost:8080/",
          "height": 504
        },
        "id": "ccjWmNzz0VkB",
        "outputId": "99bde915-ba91-42f4-9c79-11705d43f880"
      },
      "execution_count": null,
      "outputs": [
        {
          "output_type": "stream",
          "name": "stderr",
          "text": [
            "WARNING:matplotlib.legend:No artists with labels found to put in legend.  Note that artists whose label start with an underscore are ignored when legend() is called with no argument.\n"
          ]
        },
        {
          "output_type": "display_data",
          "data": {
            "text/plain": [
              "<Figure size 1200x500 with 1 Axes>"
            ],
            "image/png": "[encoded data removed]"
          },
          "metadata": {}
        }
      ]
    },
    {
      "cell_type": "code",
      "source": [
        "# Гиперпараметры модели\n",
        "# выбреем максимальную длинну слова 64, так как почти все текста будут иметь такую длину\n",
        "\n",
        "MAX_LEN = 64\n",
        "TRAIN_BATCH_SIZE = 16\n",
        "VALID_BATCH_SIZE = 16\n",
        "EPOCHS = 16\n",
        "LEARNING_RATE = 1e-05"
      ],
      "metadata": {
        "id": "G6AzHd9GuROw"
      },
      "execution_count": null,
      "outputs": []
    },
    {
      "cell_type": "markdown",
      "source": [
        "Закодируем целевую переменную (категории эмоций)"
      ],
      "metadata": {
        "id": "zRQHJGuO8t7x"
      }
    },
    {
      "cell_type": "code",
      "execution_count": null,
      "metadata": {
        "id": "4rUusnlpAPPU",
        "colab": {
          "base_uri": "https://localhost:8080/",
          "height": 206
        },
        "outputId": "14ae49fc-f43f-40ad-95b8-3e94df789bcd"
      },
      "outputs": [
        {
          "output_type": "execute_result",
          "data": {
            "text/plain": [
              "                                                text  emotion\n",
              "0  im feeling quite sad and sorry for myself but ...        4\n",
              "1  i feel like i am still looking at a blank canv...        4\n",
              "2                     i feel like a faithful servant        3\n",
              "3                  i am just feeling cranky and blue        0\n",
              "4  i can have for a treat or if i am feeling festive        2"
            ],
            "text/html": [
              "\n",
              "  <div id=\"df-5e11b4a1-7420-4303-bbf9-2b4e00b9ea53\" class=\"colab-df-container\">\n",
              "    <div>\n",
              "<style scoped>\n",
              "    .dataframe tbody tr th:only-of-type {\n",
              "        vertical-align: middle;\n",
              "    }\n",
              "\n",
              "    .dataframe tbody tr th {\n",
              "        vertical-align: top;\n",
              "    }\n",
              "\n",
              "    .dataframe thead th {\n",
              "        text-align: right;\n",
              "    }\n",
              "</style>\n",
              "<table border=\"1\" class=\"dataframe\">\n",
              "  <thead>\n",
              "    <tr style=\"text-align: right;\">\n",
              "      <th></th>\n",
              "      <th>text</th>\n",
              "      <th>emotion</th>\n",
              "    </tr>\n",
              "  </thead>\n",
              "  <tbody>\n",
              "    <tr>\n",
              "      <th>0</th>\n",
              "      <td>im feeling quite sad and sorry for myself but ...</td>\n",
              "      <td>4</td>\n",
              "    </tr>\n",
              "    <tr>\n",
              "      <th>1</th>\n",
              "      <td>i feel like i am still looking at a blank canv...</td>\n",
              "      <td>4</td>\n",
              "    </tr>\n",
              "    <tr>\n",
              "      <th>2</th>\n",
              "      <td>i feel like a faithful servant</td>\n",
              "      <td>3</td>\n",
              "    </tr>\n",
              "    <tr>\n",
              "      <th>3</th>\n",
              "      <td>i am just feeling cranky and blue</td>\n",
              "      <td>0</td>\n",
              "    </tr>\n",
              "    <tr>\n",
              "      <th>4</th>\n",
              "      <td>i can have for a treat or if i am feeling festive</td>\n",
              "      <td>2</td>\n",
              "    </tr>\n",
              "  </tbody>\n",
              "</table>\n",
              "</div>\n",
              "    <div class=\"colab-df-buttons\">\n",
              "\n",
              "  <div class=\"colab-df-container\">\n",
              "    <button class=\"colab-df-convert\" onclick=\"convertToInteractive('df-5e11b4a1-7420-4303-bbf9-2b4e00b9ea53')\"\n",
              "            title=\"Convert this dataframe to an interactive table.\"\n",
              "            style=\"display:none;\">\n",
              "\n",
              "  <svg xmlns=\"http://www.w3.org/2000/svg\" height=\"24px\" viewBox=\"0 -960 960 960\">\n",
              "    <path d=\"M120-120v-720h720v720H120Zm60-500h600v-160H180v160Zm220 220h160v-160H400v160Zm0 220h160v-160H400v160ZM180-400h160v-160H180v160Zm440 0h160v-160H620v160ZM180-180h160v-160H180v160Zm440 0h160v-160H620v160Z\"/>\n",
              "  </svg>\n",
              "    </button>\n",
              "\n",
              "  <style>\n",
              "    .colab-df-container {\n",
              "      display:flex;\n",
              "      gap: 12px;\n",
              "    }\n",
              "\n",
              "    .colab-df-convert {\n",
              "      background-color: #E8F0FE;\n",
              "      border: none;\n",
              "      border-radius: 50%;\n",
              "      cursor: pointer;\n",
              "      display: none;\n",
              "      fill: #1967D2;\n",
              "      height: 32px;\n",
              "      padding: 0 0 0 0;\n",
              "      width: 32px;\n",
              "    }\n",
              "\n",
              "    .colab-df-convert:hover {\n",
              "      background-color: #E2EBFA;\n",
              "      box-shadow: 0px 1px 2px rgba(60, 64, 67, 0.3), 0px 1px 3px 1px rgba(60, 64, 67, 0.15);\n",
              "      fill: #174EA6;\n",
              "    }\n",
              "\n",
              "    .colab-df-buttons div {\n",
              "      margin-bottom: 4px;\n",
              "    }\n",
              "\n",
              "    [theme=dark] .colab-df-convert {\n",
              "      background-color: #3B4455;\n",
              "      fill: #D2E3FC;\n",
              "    }\n",
              "\n",
              "    [theme=dark] .colab-df-convert:hover {\n",
              "      background-color: #434B5C;\n",
              "      box-shadow: 0px 1px 3px 1px rgba(0, 0, 0, 0.15);\n",
              "      filter: drop-shadow(0px 1px 2px rgba(0, 0, 0, 0.3));\n",
              "      fill: #FFFFFF;\n",
              "    }\n",
              "  </style>\n",
              "\n",
              "    <script>\n",
              "      const buttonEl =\n",
              "        document.querySelector('#df-5e11b4a1-7420-4303-bbf9-2b4e00b9ea53 button.colab-df-convert');\n",
              "      buttonEl.style.display =\n",
              "        google.colab.kernel.accessAllowed ? 'block' : 'none';\n",
              "\n",
              "      async function convertToInteractive(key) {\n",
              "        const element = document.querySelector('#df-5e11b4a1-7420-4303-bbf9-2b4e00b9ea53');\n",
              "        const dataTable =\n",
              "          await google.colab.kernel.invokeFunction('convertToInteractive',\n",
              "                                                    [key], {});\n",
              "        if (!dataTable) return;\n",
              "\n",
              "        const docLinkHtml = 'Like what you see? Visit the ' +\n",
              "          '<a target=\"_blank\" href=https://colab.research.google.com/notebooks/data_table.ipynb>data table notebook</a>'\n",
              "          + ' to learn more about interactive tables.';\n",
              "        element.innerHTML = '';\n",
              "        dataTable['output_type'] = 'display_data';\n",
              "        await google.colab.output.renderOutput(dataTable, element);\n",
              "        const docLink = document.createElement('div');\n",
              "        docLink.innerHTML = docLinkHtml;\n",
              "        element.appendChild(docLink);\n",
              "      }\n",
              "    </script>\n",
              "  </div>\n",
              "\n",
              "\n",
              "<div id=\"df-69adea77-1d02-4803-af22-2d85a25dbb08\">\n",
              "  <button class=\"colab-df-quickchart\" onclick=\"quickchart('df-69adea77-1d02-4803-af22-2d85a25dbb08')\"\n",
              "            title=\"Suggest charts.\"\n",
              "            style=\"display:none;\">\n",
              "\n",
              "<svg xmlns=\"http://www.w3.org/2000/svg\" height=\"24px\"viewBox=\"0 0 24 24\"\n",
              "     width=\"24px\">\n",
              "    <g>\n",
              "        <path d=\"M19 3H5c-1.1 0-2 .9-2 2v14c0 1.1.9 2 2 2h14c1.1 0 2-.9 2-2V5c0-1.1-.9-2-2-2zM9 17H7v-7h2v7zm4 0h-2V7h2v10zm4 0h-2v-4h2v4z\"/>\n",
              "    </g>\n",
              "</svg>\n",
              "  </button>\n",
              "\n",
              "<style>\n",
              "  .colab-df-quickchart {\n",
              "      --bg-color: #E8F0FE;\n",
              "      --fill-color: #1967D2;\n",
              "      --hover-bg-color: #E2EBFA;\n",
              "      --hover-fill-color: #174EA6;\n",
              "      --disabled-fill-color: #AAA;\n",
              "      --disabled-bg-color: #DDD;\n",
              "  }\n",
              "\n",
              "  [theme=dark] .colab-df-quickchart {\n",
              "      --bg-color: #3B4455;\n",
              "      --fill-color: #D2E3FC;\n",
              "      --hover-bg-color: #434B5C;\n",
              "      --hover-fill-color: #FFFFFF;\n",
              "      --disabled-bg-color: #3B4455;\n",
              "      --disabled-fill-color: #666;\n",
              "  }\n",
              "\n",
              "  .colab-df-quickchart {\n",
              "    background-color: var(--bg-color);\n",
              "    border: none;\n",
              "    border-radius: 50%;\n",
              "    cursor: pointer;\n",
              "    display: none;\n",
              "    fill: var(--fill-color);\n",
              "    height: 32px;\n",
              "    padding: 0;\n",
              "    width: 32px;\n",
              "  }\n",
              "\n",
              "  .colab-df-quickchart:hover {\n",
              "    background-color: var(--hover-bg-color);\n",
              "    box-shadow: 0 1px 2px rgba(60, 64, 67, 0.3), 0 1px 3px 1px rgba(60, 64, 67, 0.15);\n",
              "    fill: var(--button-hover-fill-color);\n",
              "  }\n",
              "\n",
              "  .colab-df-quickchart-complete:disabled,\n",
              "  .colab-df-quickchart-complete:disabled:hover {\n",
              "    background-color: var(--disabled-bg-color);\n",
              "    fill: var(--disabled-fill-color);\n",
              "    box-shadow: none;\n",
              "  }\n",
              "\n",
              "  .colab-df-spinner {\n",
              "    border: 2px solid var(--fill-color);\n",
              "    border-color: transparent;\n",
              "    border-bottom-color: var(--fill-color);\n",
              "    animation:\n",
              "      spin 1s steps(1) infinite;\n",
              "  }\n",
              "\n",
              "  @keyframes spin {\n",
              "    0% {\n",
              "      border-color: transparent;\n",
              "      border-bottom-color: var(--fill-color);\n",
              "      border-left-color: var(--fill-color);\n",
              "    }\n",
              "    20% {\n",
              "      border-color: transparent;\n",
              "      border-left-color: var(--fill-color);\n",
              "      border-top-color: var(--fill-color);\n",
              "    }\n",
              "    30% {\n",
              "      border-color: transparent;\n",
              "      border-left-color: var(--fill-color);\n",
              "      border-top-color: var(--fill-color);\n",
              "      border-right-color: var(--fill-color);\n",
              "    }\n",
              "    40% {\n",
              "      border-color: transparent;\n",
              "      border-right-color: var(--fill-color);\n",
              "      border-top-color: var(--fill-color);\n",
              "    }\n",
              "    60% {\n",
              "      border-color: transparent;\n",
              "      border-right-color: var(--fill-color);\n",
              "    }\n",
              "    80% {\n",
              "      border-color: transparent;\n",
              "      border-right-color: var(--fill-color);\n",
              "      border-bottom-color: var(--fill-color);\n",
              "    }\n",
              "    90% {\n",
              "      border-color: transparent;\n",
              "      border-bottom-color: var(--fill-color);\n",
              "    }\n",
              "  }\n",
              "</style>\n",
              "\n",
              "  <script>\n",
              "    async function quickchart(key) {\n",
              "      const quickchartButtonEl =\n",
              "        document.querySelector('#' + key + ' button');\n",
              "      quickchartButtonEl.disabled = true;  // To prevent multiple clicks.\n",
              "      quickchartButtonEl.classList.add('colab-df-spinner');\n",
              "      try {\n",
              "        const charts = await google.colab.kernel.invokeFunction(\n",
              "            'suggestCharts', [key], {});\n",
              "      } catch (error) {\n",
              "        console.error('Error during call to suggestCharts:', error);\n",
              "      }\n",
              "      quickchartButtonEl.classList.remove('colab-df-spinner');\n",
              "      quickchartButtonEl.classList.add('colab-df-quickchart-complete');\n",
              "    }\n",
              "    (() => {\n",
              "      let quickchartButtonEl =\n",
              "        document.querySelector('#df-69adea77-1d02-4803-af22-2d85a25dbb08 button');\n",
              "      quickchartButtonEl.style.display =\n",
              "        google.colab.kernel.accessAllowed ? 'block' : 'none';\n",
              "    })();\n",
              "  </script>\n",
              "</div>\n",
              "    </div>\n",
              "  </div>\n"
            ]
          },
          "metadata": {},
          "execution_count": 113
        }
      ],
      "source": [
        "le = LabelEncoder()\n",
        "train_df['emotion'] = le.fit_transform(train_df['emotion'])\n",
        "val_df['emotion'] = le.transform(val_df['emotion'])\n",
        "test_df['emotion'] = le.transform(test_df['emotion'])\n",
        "val_df.head()"
      ]
    },
    {
      "cell_type": "code",
      "source": [
        "# определеим веса классов, так как датасет несбалансированный\n",
        "class_weights = {class_label: 1 / (count / len(train_df) * 100) for class_label, count in train_df.emotion.value_counts().items()}\n",
        "\n",
        "print(class_weights)"
      ],
      "metadata": {
        "colab": {
          "base_uri": "https://localhost:8080/"
        },
        "id": "5xhSqPFR2p9u",
        "outputId": "19967724-85e8-4857-c946-911e513cb59e"
      },
      "execution_count": null,
      "outputs": [
        {
          "output_type": "stream",
          "name": "stdout",
          "text": [
            "{2: 0.02877697841726619, 4: 0.034423407917383825, 0: 0.07272727272727272, 1: 0.08928571428571427, 3: 0.12578616352201258, 5: 0.303030303030303}\n"
          ]
        }
      ]
    },
    {
      "cell_type": "code",
      "source": [
        "class EmotionDataset(Dataset):\n",
        "    def __init__(self, df, tokenizer, max_len):\n",
        "        self.df = df\n",
        "        self.tokenizer = tokenizer\n",
        "        self.max_len = max_len\n",
        "\n",
        "    def __len__(self):\n",
        "        return len(self.df)\n",
        "\n",
        "    def __getitem__(self, index):\n",
        "        text = str(self.df.loc[index, 'text'])\n",
        "        emotion = self.df.loc[index, 'emotion']\n",
        "\n",
        "        encoding = self.tokenizer.encode_plus(\n",
        "            text,\n",
        "            add_special_tokens=True,\n",
        "            truncation=True,\n",
        "            max_length=self.max_len,\n",
        "            return_token_type_ids=False,\n",
        "            padding='max_length',\n",
        "            return_attention_mask=True,\n",
        "            return_tensors='pt',\n",
        "        )\n",
        "\n",
        "        return {\n",
        "            'text': text,\n",
        "            'input_ids': encoding['input_ids'].flatten(),\n",
        "            'attention_mask': encoding['attention_mask'].flatten(),\n",
        "            'emotion': torch.tensor(emotion, dtype=torch.long)\n",
        "        }"
      ],
      "metadata": {
        "id": "JwIcgGEOtCOD"
      },
      "execution_count": null,
      "outputs": []
    },
    {
      "cell_type": "markdown",
      "source": [
        "Создадим DataLoader"
      ],
      "metadata": {
        "id": "TL13inHM9PSN"
      }
    },
    {
      "cell_type": "code",
      "source": [
        "train_dataset = EmotionDataset(train_df, tokenizer, MAX_LEN )\n",
        "train_loader = DataLoader(train_dataset, batch_size=TRAIN_BATCH_SIZE ,\n",
        "                          shuffle=True)\n",
        "\n",
        "val_dataset = EmotionDataset(val_df, tokenizer, MAX_LEN)\n",
        "val_loader = DataLoader(val_dataset, batch_size=VALID_BATCH_SIZE )"
      ],
      "metadata": {
        "id": "AoKZzFPFpC6O"
      },
      "execution_count": null,
      "outputs": []
    },
    {
      "cell_type": "markdown",
      "source": [
        "#Инициализация нейронной сети BertClassifier на основе BERT"
      ],
      "metadata": {
        "id": "iOAj_3jd9Qme"
      }
    },
    {
      "cell_type": "code",
      "execution_count": null,
      "metadata": {
        "id": "fS3FK3braEa8"
      },
      "outputs": [],
      "source": [
        "class BertClassifier(nn.Module):\n",
        "\n",
        "    def __init__(self, bert_model_name, dropout=0.2):\n",
        "\n",
        "        super(BertClassifier, self).__init__()\n",
        "\n",
        "        self.bert = BertModel.from_pretrained(bert_model_name)\n",
        "        self.dropout1 = nn.Dropout(dropout)\n",
        "        self.fc1 = nn.Linear(768, 64)\n",
        "        self.relu = nn.ReLU()\n",
        "        self.dropout2 = nn.Dropout(dropout)\n",
        "        self.fc2 = nn.Linear(64, 6)\n",
        "\n",
        "    def forward(self, input_ids, attention_mask):\n",
        "\n",
        "        outputs = self.bert(input_ids=input_ids,\n",
        "                            attention_mask=attention_mask)\n",
        "        pooled_output = outputs.pooler_output\n",
        "        pooled_output = self.dropout1(pooled_output)\n",
        "        output = self.fc1(pooled_output)\n",
        "        output = self.relu(output)\n",
        "        output = self.dropout2(output)\n",
        "        logits = self.fc2(output)\n",
        "\n",
        "        return logits"
      ]
    },
    {
      "cell_type": "markdown",
      "metadata": {
        "id": "9tr7a_J5cSt5"
      },
      "source": [
        "#Обучение сети"
      ]
    },
    {
      "cell_type": "code",
      "source": [
        "def plot_train_history(train_losses, train_f1_scores, val_losses, val_f1_scores):\n",
        "    \"\"\"\n",
        "    Функция отрисовки процесса обучения модели\n",
        "    \"\"\"\n",
        "    plt.figure(figsize=(16, 6))\n",
        "\n",
        "    # Loss на обучающей выборке\n",
        "    plt.subplot(1, 2, 1)\n",
        "    plt.plot(train_losses, label='Train Loss')\n",
        "    plt.plot(val_losses, label='Validation Loss')\n",
        "    plt.xlabel('Epoch')\n",
        "    plt.ylabel('Loss')\n",
        "    plt.title('Train and Validation Loss')\n",
        "    plt.legend()\n",
        "\n",
        "    # F1-мера на обучающей и валидационной выборках\n",
        "    plt.subplot(1, 2, 2)\n",
        "    plt.plot(train_f1_scores, label='Train F1 Score')\n",
        "    plt.plot(val_f1_scores, label='Validation F1 Score')\n",
        "    plt.xlabel('Epoch')\n",
        "    plt.ylabel('F1 Score')\n",
        "    plt.title('Train and Validation F1 Score')\n",
        "    plt.legend()\n",
        "\n",
        "    plt.show()\n"
      ],
      "metadata": {
        "id": "9uCr9utJ1epg"
      },
      "execution_count": null,
      "outputs": []
    },
    {
      "cell_type": "code",
      "source": [
        "def generate_classification_report(model, eval_dataloader, device):\n",
        "    \"\"\"\n",
        "    Функция выводящая отчет по всей модели\n",
        "\n",
        "    \"\"\"\n",
        "\n",
        "    y_true = []  # Список для хранения истинных меток\n",
        "    y_pred = []  # Список для хранения предсказанных меток\n",
        "    y_scores = []  # Список для хранения вероятностей для ROC-AUC\n",
        "\n",
        "    # Переводим модель в режим оценки\n",
        "    model.eval()\n",
        "\n",
        "    with torch.no_grad():\n",
        "        for data in eval_dataloader:\n",
        "            # переносим данные на device\n",
        "            input_ids = data['input_ids'].to(device)\n",
        "            attention_mask = data['attention_mask'].to(device)\n",
        "            labels = data['emotion'].to(device)\n",
        "\n",
        "            # получаем предсказанные значения\n",
        "\n",
        "            outputs = model(input_ids, attention_mask)\n",
        "\n",
        "            # Применяем софтмакс для получения вероятностей классов\n",
        "            probabilities = torch.softmax(outputs, dim=1)\n",
        "\n",
        "            # Получаем предсказанные классы как индексы с наибольшей вероятностью\n",
        "            _, predicted = torch.max(probabilities, 1)\n",
        "\n",
        "            # Преобразуем тензоры в списки\n",
        "            y_true.extend(labels.cpu().numpy())\n",
        "            y_pred.extend(predicted.cpu().numpy())\n",
        "\n",
        "            # Получаем вероятности для ROC-AUC\n",
        "            y_scores.extend(probabilities.cpu().numpy())\n",
        "\n",
        "    # Генерируем отчет с использованием classification_report\n",
        "    report = classification_report(y_true, y_pred)\n",
        "\n",
        "    # Calculate micro-average ROC-AUC\n",
        "    micro_fpr, micro_tpr, _ = roc_curve(np.array(y_true), np.array(y_scores)[:, 1], pos_label=1)\n",
        "    micro_roc_auc = auc(micro_fpr, micro_tpr)\n",
        "\n",
        "    # Calculate macro-average ROC-AUC\n",
        "    n_classes = len(np.unique(y_true))\n",
        "    macro_fpr = dict()\n",
        "    macro_tpr = dict()\n",
        "    macro_roc_auc = dict()\n",
        "    for i in range(n_classes):\n",
        "        macro_fpr[i], macro_tpr[i], _ = roc_curve(np.array(y_true) == i, np.array(y_scores)[:, i])\n",
        "        macro_roc_auc[i] = auc(macro_fpr[i], macro_tpr[i])\n",
        "\n",
        "    # Calculate macro-average ROC-AUC by averaging over classes\n",
        "    macro_roc_auc = np.mean(list(macro_roc_auc.values()))\n",
        "\n",
        "    # Print ROC-AUC scores\n",
        "    print(f'Micro-average ROC-AUC: {micro_roc_auc}')\n",
        "    print(f'Macro-average ROC-AUC: {macro_roc_auc}')\n",
        "\n",
        "    plt.figure(figsize=(8, 6))\n",
        "    lw = 2\n",
        "    for i in range(n_classes):\n",
        "        plt.plot(macro_fpr[i], macro_tpr[i], lw=lw, label=f'Class {i} (area = {macro_roc_auc:0.2f})')\n",
        "\n",
        "    plt.plot([0, 1], [0, 1], color='navy', lw=lw, linestyle='--')\n",
        "    plt.xlim([0.0, 1.0])\n",
        "    plt.ylim([0.0, 1.05])\n",
        "    plt.xlabel('False Positive Rate')\n",
        "    plt.ylabel('True Positive Rate')\n",
        "    plt.title('Receiver Operating Characteristic (ROC) Curve')\n",
        "    plt.legend(loc=\"lower right\")\n",
        "    plt.show()\n",
        "\n",
        "    return report\n"
      ],
      "metadata": {
        "id": "IyIlKWIo1MGt"
      },
      "execution_count": null,
      "outputs": []
    },
    {
      "cell_type": "code",
      "source": [
        "def calculate_f1_score(preds, labels):\n",
        "    pred_flat = torch.argmax(preds, dim=1).cpu().numpy()\n",
        "    labels_flat = labels.cpu().numpy()\n",
        "    f1 = f1_score(labels_flat, pred_flat, average='weighted')\n",
        "    return f1\n",
        "\n",
        "def train_and_evaluate(model, train_data_loader, val_data_loader, optimizer, criterion, device, num_epochs):\n",
        "    model.to(device)\n",
        "\n",
        "    train_losses = []  # Список для хранения потерь на обучающем наборе данных\n",
        "    val_losses = []    # Список для хранения потерь на валидационном наборе данных\n",
        "    train_f1_scores = []  # Список для хранения F1-оценок на обучающем наборе данных\n",
        "    val_f1_scores = []    # Список для хранения F1-оценок на валидационном наборе данных\n",
        "\n",
        "    for epoch in range(num_epochs):\n",
        "        model.train()\n",
        "        train_loss = 0.0\n",
        "        train_f1 = 0.0\n",
        "\n",
        "        for batch in tqdm(train_data_loader):\n",
        "            input_ids = batch['input_ids'].to(device)\n",
        "            attention_mask = batch['attention_mask'].to(device)\n",
        "            labels = batch['emotion'].to(device)\n",
        "\n",
        "            optimizer.zero_grad()\n",
        "            outputs = model(input_ids, attention_mask)\n",
        "            loss = criterion(outputs, labels)\n",
        "            loss.backward()\n",
        "            optimizer.step()\n",
        "\n",
        "            train_loss += loss.item()\n",
        "            train_f1 += calculate_f1_score(outputs, labels)\n",
        "\n",
        "        avg_train_loss = train_loss / len(train_data_loader)\n",
        "        avg_train_f1 = train_f1 / len(train_data_loader)\n",
        "\n",
        "        model.eval()\n",
        "        val_loss = 0.0\n",
        "        val_f1 = 0.0\n",
        "\n",
        "        with torch.no_grad():\n",
        "            for batch in tqdm(val_data_loader):\n",
        "                input_ids = batch['input_ids'].to(device)\n",
        "                attention_mask = batch['attention_mask'].to(device)\n",
        "                labels = batch['emotion'].to(device)\n",
        "\n",
        "                outputs = model(input_ids, attention_mask)\n",
        "                loss = criterion(outputs, labels)\n",
        "\n",
        "                val_loss += loss.item()\n",
        "                val_f1 += calculate_f1_score(outputs, labels)\n",
        "\n",
        "        avg_val_loss = val_loss / len(val_data_loader)\n",
        "        avg_val_f1 = val_f1 / len(val_data_loader)\n",
        "\n",
        "        train_losses.append(avg_train_loss)\n",
        "        val_losses.append(avg_val_loss)\n",
        "        train_f1_scores.append(avg_train_f1)\n",
        "        val_f1_scores.append(avg_val_f1)\n",
        "\n",
        "        print(f'Epoch {epoch + 1}/{num_epochs}')\n",
        "        print(f'Train Loss: {avg_train_loss:.4f} | Train F1 Score: {avg_train_f1:.4f}')\n",
        "        print(f'Val Loss: {avg_val_loss:.4f} | Val F1 Score: {avg_val_f1:.4f}')\n",
        "        print('-' * 50)\n",
        "    # Визуализация результатов\n",
        "    plot_train_history(train_losses, train_f1_scores, val_losses, val_f1_scores)\n",
        "\n",
        "    report = generate_classification_report(model, val_data_loader, device)\n",
        "    print(report)\n",
        "\n",
        "    return model\n"
      ],
      "metadata": {
        "id": "QAABDIUVpOI0"
      },
      "execution_count": null,
      "outputs": []
    },
    {
      "cell_type": "code",
      "execution_count": null,
      "metadata": {
        "colab": {
          "base_uri": "https://localhost:8080/",
          "height": 1000
        },
        "id": "PCDCRIOygPYA",
        "outputId": "dcb9e7c6-8fb2-493e-ba5b-55680de0351a"
      },
      "outputs": [
        {
          "output_type": "stream",
          "name": "stderr",
          "text": [
            "100%|██████████| 125/125 [00:25<00:00,  4.83it/s]\n",
            "100%|██████████| 125/125 [00:08<00:00, 14.83it/s]\n"
          ]
        },
        {
          "output_type": "stream",
          "name": "stdout",
          "text": [
            "Epoch 1/16\n",
            "Train Loss: 1.8079 | Train F1 Score: 0.2259\n",
            "Val Loss: 1.7878 | Val F1 Score: 0.1985\n",
            "--------------------------------------------------\n"
          ]
        },
        {
          "output_type": "stream",
          "name": "stderr",
          "text": [
            "100%|██████████| 125/125 [00:26<00:00,  4.79it/s]\n",
            "100%|██████████| 125/125 [00:07<00:00, 15.66it/s]\n"
          ]
        },
        {
          "output_type": "stream",
          "name": "stdout",
          "text": [
            "Epoch 2/16\n",
            "Train Loss: 1.7900 | Train F1 Score: 0.2623\n",
            "Val Loss: 1.7741 | Val F1 Score: 0.2796\n",
            "--------------------------------------------------\n"
          ]
        },
        {
          "output_type": "stream",
          "name": "stderr",
          "text": [
            "100%|██████████| 125/125 [00:25<00:00,  4.86it/s]\n",
            "100%|██████████| 125/125 [00:08<00:00, 15.03it/s]\n"
          ]
        },
        {
          "output_type": "stream",
          "name": "stdout",
          "text": [
            "Epoch 3/16\n",
            "Train Loss: 1.7487 | Train F1 Score: 0.3223\n",
            "Val Loss: 1.6640 | Val F1 Score: 0.4435\n",
            "--------------------------------------------------\n"
          ]
        },
        {
          "output_type": "stream",
          "name": "stderr",
          "text": [
            "100%|██████████| 125/125 [00:25<00:00,  4.85it/s]\n",
            "100%|██████████| 125/125 [00:08<00:00, 14.65it/s]\n"
          ]
        },
        {
          "output_type": "stream",
          "name": "stdout",
          "text": [
            "Epoch 4/16\n",
            "Train Loss: 1.6109 | Train F1 Score: 0.4466\n",
            "Val Loss: 1.4825 | Val F1 Score: 0.4815\n",
            "--------------------------------------------------\n"
          ]
        },
        {
          "output_type": "stream",
          "name": "stderr",
          "text": [
            "100%|██████████| 125/125 [00:25<00:00,  4.84it/s]\n",
            "100%|██████████| 125/125 [00:08<00:00, 15.00it/s]\n"
          ]
        },
        {
          "output_type": "stream",
          "name": "stdout",
          "text": [
            "Epoch 5/16\n",
            "Train Loss: 1.4431 | Train F1 Score: 0.5063\n",
            "Val Loss: 1.2780 | Val F1 Score: 0.5945\n",
            "--------------------------------------------------\n"
          ]
        },
        {
          "output_type": "stream",
          "name": "stderr",
          "text": [
            "100%|██████████| 125/125 [00:26<00:00,  4.78it/s]\n",
            "100%|██████████| 125/125 [00:08<00:00, 15.54it/s]\n"
          ]
        },
        {
          "output_type": "stream",
          "name": "stdout",
          "text": [
            "Epoch 6/16\n",
            "Train Loss: 1.2255 | Train F1 Score: 0.5613\n",
            "Val Loss: 1.0736 | Val F1 Score: 0.6442\n",
            "--------------------------------------------------\n"
          ]
        },
        {
          "output_type": "stream",
          "name": "stderr",
          "text": [
            "100%|██████████| 125/125 [00:25<00:00,  4.82it/s]\n",
            "100%|██████████| 125/125 [00:08<00:00, 15.29it/s]\n"
          ]
        },
        {
          "output_type": "stream",
          "name": "stdout",
          "text": [
            "Epoch 7/16\n",
            "Train Loss: 0.9988 | Train F1 Score: 0.6698\n",
            "Val Loss: 0.8981 | Val F1 Score: 0.7586\n",
            "--------------------------------------------------\n"
          ]
        },
        {
          "output_type": "stream",
          "name": "stderr",
          "text": [
            "100%|██████████| 125/125 [00:25<00:00,  4.84it/s]\n",
            "100%|██████████| 125/125 [00:08<00:00, 14.72it/s]\n"
          ]
        },
        {
          "output_type": "stream",
          "name": "stdout",
          "text": [
            "Epoch 8/16\n",
            "Train Loss: 0.8367 | Train F1 Score: 0.7445\n",
            "Val Loss: 0.7709 | Val F1 Score: 0.7884\n",
            "--------------------------------------------------\n"
          ]
        },
        {
          "output_type": "stream",
          "name": "stderr",
          "text": [
            "100%|██████████| 125/125 [00:25<00:00,  4.87it/s]\n",
            "100%|██████████| 125/125 [00:08<00:00, 14.68it/s]\n"
          ]
        },
        {
          "output_type": "stream",
          "name": "stdout",
          "text": [
            "Epoch 9/16\n",
            "Train Loss: 0.6900 | Train F1 Score: 0.8223\n",
            "Val Loss: 0.6892 | Val F1 Score: 0.8182\n",
            "--------------------------------------------------\n"
          ]
        },
        {
          "output_type": "stream",
          "name": "stderr",
          "text": [
            "100%|██████████| 125/125 [00:25<00:00,  4.85it/s]\n",
            "100%|██████████| 125/125 [00:08<00:00, 15.33it/s]\n"
          ]
        },
        {
          "output_type": "stream",
          "name": "stdout",
          "text": [
            "Epoch 10/16\n",
            "Train Loss: 0.5416 | Train F1 Score: 0.8863\n",
            "Val Loss: 0.5859 | Val F1 Score: 0.8613\n",
            "--------------------------------------------------\n"
          ]
        },
        {
          "output_type": "stream",
          "name": "stderr",
          "text": [
            "100%|██████████| 125/125 [00:25<00:00,  4.84it/s]\n",
            "100%|██████████| 125/125 [00:08<00:00, 15.61it/s]\n"
          ]
        },
        {
          "output_type": "stream",
          "name": "stdout",
          "text": [
            "Epoch 11/16\n",
            "Train Loss: 0.4130 | Train F1 Score: 0.9310\n",
            "Val Loss: 0.5286 | Val F1 Score: 0.8727\n",
            "--------------------------------------------------\n"
          ]
        },
        {
          "output_type": "stream",
          "name": "stderr",
          "text": [
            "100%|██████████| 125/125 [00:25<00:00,  4.83it/s]\n",
            "100%|██████████| 125/125 [00:08<00:00, 15.02it/s]\n"
          ]
        },
        {
          "output_type": "stream",
          "name": "stdout",
          "text": [
            "Epoch 12/16\n",
            "Train Loss: 0.3530 | Train F1 Score: 0.9532\n",
            "Val Loss: 0.4966 | Val F1 Score: 0.8795\n",
            "--------------------------------------------------\n"
          ]
        },
        {
          "output_type": "stream",
          "name": "stderr",
          "text": [
            "100%|██████████| 125/125 [00:25<00:00,  4.87it/s]\n",
            "100%|██████████| 125/125 [00:08<00:00, 14.75it/s]\n"
          ]
        },
        {
          "output_type": "stream",
          "name": "stdout",
          "text": [
            "Epoch 13/16\n",
            "Train Loss: 0.2831 | Train F1 Score: 0.9647\n",
            "Val Loss: 0.4964 | Val F1 Score: 0.8669\n",
            "--------------------------------------------------\n"
          ]
        },
        {
          "output_type": "stream",
          "name": "stderr",
          "text": [
            "100%|██████████| 125/125 [00:25<00:00,  4.87it/s]\n",
            "100%|██████████| 125/125 [00:08<00:00, 15.00it/s]\n"
          ]
        },
        {
          "output_type": "stream",
          "name": "stdout",
          "text": [
            "Epoch 14/16\n",
            "Train Loss: 0.2337 | Train F1 Score: 0.9706\n",
            "Val Loss: 0.5177 | Val F1 Score: 0.8864\n",
            "--------------------------------------------------\n"
          ]
        },
        {
          "output_type": "stream",
          "name": "stderr",
          "text": [
            "100%|██████████| 125/125 [00:25<00:00,  4.83it/s]\n",
            "100%|██████████| 125/125 [00:08<00:00, 15.58it/s]\n"
          ]
        },
        {
          "output_type": "stream",
          "name": "stdout",
          "text": [
            "Epoch 15/16\n",
            "Train Loss: 0.1962 | Train F1 Score: 0.9808\n",
            "Val Loss: 0.5509 | Val F1 Score: 0.8843\n",
            "--------------------------------------------------\n"
          ]
        },
        {
          "output_type": "stream",
          "name": "stderr",
          "text": [
            "100%|██████████| 125/125 [00:25<00:00,  4.82it/s]\n",
            "100%|██████████| 125/125 [00:08<00:00, 15.24it/s]\n"
          ]
        },
        {
          "output_type": "stream",
          "name": "stdout",
          "text": [
            "Epoch 16/16\n",
            "Train Loss: 0.1732 | Train F1 Score: 0.9869\n",
            "Val Loss: 0.5841 | Val F1 Score: 0.8716\n",
            "--------------------------------------------------\n"
          ]
        },
        {
          "output_type": "display_data",
          "data": {
            "text/plain": [
              "<Figure size 1600x600 with 2 Axes>"
            ],
            "image/png": "[encoded data removed]"
          },
          "metadata": {}
        },
        {
          "output_type": "stream",
          "name": "stdout",
          "text": [
            "Micro-average ROC-AUC: 0.98118351905787\n",
            "Macro-average ROC-AUC: 0.9716444283011554\n"
          ]
        },
        {
          "output_type": "display_data",
          "data": {
            "text/plain": [
              "<Figure size 800x600 with 1 Axes>"
            ],
            "image/png": "[encoded data removed]"
          },
          "metadata": {}
        },
        {
          "output_type": "stream",
          "name": "stdout",
          "text": [
            "              precision    recall  f1-score   support\n",
            "\n",
            "           0       0.74      0.95      0.83       275\n",
            "           1       0.76      0.85      0.80       212\n",
            "           2       0.93      0.91      0.92       704\n",
            "           3       0.87      0.70      0.78       178\n",
            "           4       0.95      0.85      0.89       550\n",
            "           5       0.80      0.83      0.81        81\n",
            "\n",
            "    accuracy                           0.87      2000\n",
            "   macro avg       0.84      0.85      0.84      2000\n",
            "weighted avg       0.88      0.87      0.87      2000\n",
            "\n"
          ]
        }
      ],
      "source": [
        "model = BertClassifier('bert-base-uncased', dropout=0.5)\n",
        "\n",
        "# определяем устройство\n",
        "device = torch.device('cuda' if torch.cuda.is_available() else 'cpu')\n",
        "\n",
        " # создадим веса для каждого класса\n",
        "class_weights_tensor = torch.FloatTensor([class_weights[i] for i in range(len(class_weights))]).to(device)\n",
        "\n",
        "# используем Кросс энтропию для задачи многоклассовой классификации\n",
        "criterion = nn.CrossEntropyLoss(weight=class_weights_tensor)\n",
        "\n",
        "# определяем оптимизатор\n",
        "optimizer = torch.optim.Adam(model.parameters(), lr=LEARNING_RATE)\n",
        "\n",
        "# перемещаем model на device\n",
        "model.to(device)\n",
        "\n",
        "bert = train_and_evaluate(model, train_loader, val_loader, optimizer, criterion, device, EPOCHS)\n"
      ]
    },
    {
      "cell_type": "markdown",
      "source": [
        "#Тестим"
      ],
      "metadata": {
        "id": "eptlX5IFGxAU"
      }
    },
    {
      "cell_type": "code",
      "source": [
        "def predict(model, test_data):\n",
        "    # Создадим EmotionDataset и DataLoader на основе test_data\n",
        "    test = EmotionDataset(test_data, tokenizer, MAX_LEN)\n",
        "    test_dataloader = DataLoader(test, batch_size=VALID_BATCH_SIZE)\n",
        "\n",
        "    use_cuda = torch.cuda.is_available()\n",
        "    device = torch.device(\"cuda\" if use_cuda else \"cpu\")\n",
        "\n",
        "    if use_cuda:\n",
        "        model = model.to(device)\n",
        "\n",
        "    model.eval()\n",
        "\n",
        "    pred = []\n",
        "    target = []\n",
        "\n",
        "    for data in tqdm(test_dataloader):\n",
        "        input_ids = data['input_ids'].to(device)\n",
        "        attention_mask = data['attention_mask'].to(device)\n",
        "        labels = data['emotion'].to(device)\n",
        "        target.append(labels)\n",
        "\n",
        "        with torch.no_grad():\n",
        "            outputs = model(input_ids, attention_mask)\n",
        "            pred.append(outputs)\n",
        "\n",
        "    # Копируем и объединяем предсказания\n",
        "    pred = np.concatenate([t.cpu().numpy() for t in pred], axis=0)\n",
        "    # Копируем и объединяем истинные метки\n",
        "    target = np.concatenate([t.cpu().numpy() for t in target], axis=0)\n",
        "\n",
        "    average_f1_score = calculate_f1_score(torch.tensor(pred), torch.tensor(target))\n",
        "    report = classification_report(np.argmax(pred, axis=1), target)\n",
        "\n",
        "    print(f'\\n  F1 Score на тесте: {average_f1_score:.3f}')\n",
        "    print(report)"
      ],
      "metadata": {
        "id": "lCOtxdgTxP2B"
      },
      "execution_count": null,
      "outputs": []
    },
    {
      "cell_type": "code",
      "source": [
        "predict(bert, test_df)"
      ],
      "metadata": {
        "colab": {
          "base_uri": "https://localhost:8080/"
        },
        "id": "0NJ4NWtC03H6",
        "outputId": "557479fe-74a7-45f8-d16a-e7f761435e4e"
      },
      "execution_count": null,
      "outputs": [
        {
          "output_type": "stream",
          "name": "stderr",
          "text": [
            "100%|██████████| 125/125 [00:08<00:00, 15.56it/s]"
          ]
        },
        {
          "output_type": "stream",
          "name": "stdout",
          "text": [
            "\n",
            "  F1 Score на тесте: 0.978\n",
            "              precision    recall  f1-score   support\n",
            "\n",
            "           0       1.00      0.93      0.96       296\n",
            "           1       0.99      0.98      0.98       227\n",
            "           2       0.99      0.98      0.99       698\n",
            "           3       0.95      0.97      0.96       155\n",
            "           4       0.96      1.00      0.98       557\n",
            "           5       1.00      0.99      0.99        67\n",
            "\n",
            "    accuracy                           0.98      2000\n",
            "   macro avg       0.98      0.97      0.98      2000\n",
            "weighted avg       0.98      0.98      0.98      2000\n",
            "\n"
          ]
        },
        {
          "output_type": "stream",
          "name": "stderr",
          "text": [
            "\n"
          ]
        }
      ]
    },
    {
      "cell_type": "code",
      "source": [],
      "metadata": {
        "id": "MFCQs1ddRy4P"
      },
      "execution_count": null,
      "outputs": []
    }
  ],
  "metadata": {
    "colab": {
      "provenance": [],
      "gpuType": "T4"
    },
    "gpuClass": "standard",
    "kernelspec": {
      "display_name": "Python 3",
      "name": "python3"
    },
    "language_info": {
      "name": "python"
    },
    "accelerator": "GPU"
  },
  "nbformat": 4,
  "nbformat_minor": 0
}